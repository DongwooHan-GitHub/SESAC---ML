{
 "cells": [
  {
   "cell_type": "code",
   "execution_count": 24,
   "metadata": {},
   "outputs": [],
   "source": [
    "import os\n",
    "import numpy as np\n",
    "import pandas as pd\n",
    "import matplotlib as plt\n",
    "import seaborn as sns\n",
    "\n",
    "fpath = \"./dataset\""
   ]
  },
  {
   "cell_type": "code",
   "execution_count": 26,
   "metadata": {},
   "outputs": [
    {
     "name": "stdout",
     "output_type": "stream",
     "text": [
      "   수학    영어 성별     합격\n",
      "0  90  90.0  남   True\n",
      "1  80  70.0  남  False\n",
      "2  70  90.0  여   True\n"
     ]
    }
   ],
   "source": [
    "## DataFrame\n",
    "exam_df = {\n",
    "    \"수학\" : [90, 80, 70],\n",
    "    \"영어\" : [90., 70., 90.],\n",
    "    \"성별\" : [\"남\", \"남\", \"여\"],\n",
    "    \"합격\" : [True, False, True]\n",
    "}\n",
    "exam_df = pd.DataFrame(exam_df)\n",
    "print(exam_df)"
   ]
  },
  {
   "cell_type": "code",
   "execution_count": 27,
   "metadata": {},
   "outputs": [
    {
     "name": "stdout",
     "output_type": "stream",
     "text": [
      "<class 'pandas.core.frame.DataFrame'>\n",
      "RangeIndex: 3 entries, 0 to 2\n",
      "Data columns (total 4 columns):\n",
      " #   Column  Non-Null Count  Dtype  \n",
      "---  ------  --------------  -----  \n",
      " 0   수학      3 non-null      int64  \n",
      " 1   영어      3 non-null      float64\n",
      " 2   성별      3 non-null      object \n",
      " 3   합격      3 non-null      bool   \n",
      "dtypes: bool(1), float64(1), int64(1), object(1)\n",
      "memory usage: 207.0+ bytes\n"
     ]
    }
   ],
   "source": [
    "## summary statistics\n",
    "exam_df.shape\n",
    "exam_df.columns\n",
    "exam_df.dtypes\n",
    "exam_df.info()"
   ]
  },
  {
   "cell_type": "code",
   "execution_count": 28,
   "metadata": {},
   "outputs": [
    {
     "name": "stdout",
     "output_type": "stream",
     "text": [
      "80.0\n",
      "80.0\n",
      "10.0\n",
      "100.0\n",
      "5.773502691896258\n",
      "70\n",
      "90\n"
     ]
    }
   ],
   "source": [
    "print(exam_df[\"수학\"].mean())\n",
    "print(exam_df[\"수학\"].median())\n",
    "print(exam_df[\"수학\"].std())\n",
    "print(exam_df[\"수학\"].var())\n",
    "print(exam_df[\"수학\"].sem())\n",
    "print(exam_df[\"수학\"].min())\n",
    "print(exam_df[\"수학\"].max())\n",
    "\n",
    "\n"
   ]
  },
  {
   "cell_type": "code",
   "execution_count": 6,
   "metadata": {},
   "outputs": [
    {
     "name": "stdout",
     "output_type": "stream",
     "text": [
      "['anagrams', 'anscombe', 'attention', 'brain_networks', 'car_crashes', 'diamonds', 'dots', 'dowjones', 'exercise', 'flights', 'fmri', 'geyser', 'glue', 'healthexp', 'iris', 'mpg', 'penguins', 'planets', 'seaice', 'taxis', 'tips', 'titanic']\n",
      "   total_bill   tip     sex smoker  day    time  size\n",
      "0       16.99  1.01  Female     No  Sun  Dinner     2\n",
      "1       10.34  1.66    Male     No  Sun  Dinner     3\n",
      "2       21.01  3.50    Male     No  Sun  Dinner     3\n",
      "3       23.68  3.31    Male     No  Sun  Dinner     2\n",
      "4       24.59  3.61  Female     No  Sun  Dinner     4\n"
     ]
    }
   ],
   "source": [
    "## sns\n",
    "\n",
    "print(sns.get_dataset_names())\n",
    "tips = sns.load_dataset(\"tips\")\n",
    "print(tips.head())"
   ]
  },
  {
   "cell_type": "code",
   "execution_count": 32,
   "metadata": {},
   "outputs": [
    {
     "name": "stdout",
     "output_type": "stream",
     "text": [
      "correlation = \n",
      "             total_bill       tip\n",
      "total_bill    1.000000  0.675734\n",
      "tip           0.675734  1.000000\n"
     ]
    },
    {
     "data": {
      "image/png": "[encoded data removed]",
      "text/plain": [
       "<Figure size 640x480 with 1 Axes>"
      ]
     },
     "metadata": {},
     "output_type": "display_data"
    }
   ],
   "source": [
    "import seaborn as sns\n",
    "import matplotlib.pyplot as plt\n",
    "\n",
    "tips = sns.load_dataset(\"tips\")\n",
    "\n",
    "# 상관관계 출력\n",
    "print(\"correlation = \\n\", tips[[\"total_bill\", \"tip\"]].corr())\n",
    "\n",
    "# 산점도 그리기\n",
    "plt.scatter(tips[\"total_bill\"], tips[\"tip\"], s=100)\n",
    "plt.xlabel(\"Total Bill\")\n",
    "plt.ylabel(\"Tip\")\n",
    "plt.title(\"Scatter plot of Total Bill vs Tip\")\n",
    "plt.show()"
   ]
  },
  {
   "cell_type": "code",
   "execution_count": 30,
   "metadata": {},
   "outputs": [
    {
     "data": {
      "text/html": [
       "<div>\n",
       "<style scoped>\n",
       "    .dataframe tbody tr th:only-of-type {\n",
       "        vertical-align: middle;\n",
       "    }\n",
       "\n",
       "    .dataframe tbody tr th {\n",
       "        vertical-align: top;\n",
       "    }\n",
       "\n",
       "    .dataframe thead th {\n",
       "        text-align: right;\n",
       "    }\n",
       "</style>\n",
       "<table border=\"1\" class=\"dataframe\">\n",
       "  <thead>\n",
       "    <tr style=\"text-align: right;\">\n",
       "      <th></th>\n",
       "      <th>group</th>\n",
       "      <th>id</th>\n",
       "      <th>time</th>\n",
       "      <th>hz0.04</th>\n",
       "      <th>hz0.08</th>\n",
       "      <th>hz0.1</th>\n",
       "      <th>hz0.16</th>\n",
       "      <th>hz0.32</th>\n",
       "      <th>hz0.64</th>\n",
       "      <th>hz1</th>\n",
       "    </tr>\n",
       "  </thead>\n",
       "  <tbody>\n",
       "    <tr>\n",
       "      <th>0</th>\n",
       "      <td>1</td>\n",
       "      <td>1</td>\n",
       "      <td>Pre</td>\n",
       "      <td>0.213840</td>\n",
       "      <td>0.717955</td>\n",
       "      <td>0.848727</td>\n",
       "      <td>0.850790</td>\n",
       "      <td>0.802738</td>\n",
       "      <td>0.808393</td>\n",
       "      <td>0.738967</td>\n",
       "    </tr>\n",
       "    <tr>\n",
       "      <th>1</th>\n",
       "      <td>1</td>\n",
       "      <td>2</td>\n",
       "      <td>Pre</td>\n",
       "      <td>0.345725</td>\n",
       "      <td>0.795440</td>\n",
       "      <td>0.781473</td>\n",
       "      <td>0.924972</td>\n",
       "      <td>0.801245</td>\n",
       "      <td>0.803880</td>\n",
       "      <td>0.781420</td>\n",
       "    </tr>\n",
       "    <tr>\n",
       "      <th>2</th>\n",
       "      <td>1</td>\n",
       "      <td>3</td>\n",
       "      <td>Pre</td>\n",
       "      <td>0.376285</td>\n",
       "      <td>0.799327</td>\n",
       "      <td>0.781350</td>\n",
       "      <td>0.777773</td>\n",
       "      <td>0.868007</td>\n",
       "      <td>0.868853</td>\n",
       "      <td>0.754252</td>\n",
       "    </tr>\n",
       "    <tr>\n",
       "      <th>3</th>\n",
       "      <td>1</td>\n",
       "      <td>4</td>\n",
       "      <td>Pre</td>\n",
       "      <td>0.451440</td>\n",
       "      <td>0.771083</td>\n",
       "      <td>0.808645</td>\n",
       "      <td>0.787825</td>\n",
       "      <td>0.839985</td>\n",
       "      <td>0.832352</td>\n",
       "      <td>0.818722</td>\n",
       "    </tr>\n",
       "    <tr>\n",
       "      <th>4</th>\n",
       "      <td>1</td>\n",
       "      <td>5</td>\n",
       "      <td>Pre</td>\n",
       "      <td>0.287360</td>\n",
       "      <td>0.825547</td>\n",
       "      <td>0.831303</td>\n",
       "      <td>0.818332</td>\n",
       "      <td>0.817320</td>\n",
       "      <td>0.816153</td>\n",
       "      <td>0.836298</td>\n",
       "    </tr>\n",
       "  </tbody>\n",
       "</table>\n",
       "</div>"
      ],
      "text/plain": [
       "   group  id time    hz0.04    hz0.08     hz0.1    hz0.16    hz0.32    hz0.64  \\\n",
       "0      1   1  Pre  0.213840  0.717955  0.848727  0.850790  0.802738  0.808393   \n",
       "1      1   2  Pre  0.345725  0.795440  0.781473  0.924972  0.801245  0.803880   \n",
       "2      1   3  Pre  0.376285  0.799327  0.781350  0.777773  0.868007  0.868853   \n",
       "3      1   4  Pre  0.451440  0.771083  0.808645  0.787825  0.839985  0.832352   \n",
       "4      1   5  Pre  0.287360  0.825547  0.831303  0.818332  0.817320  0.816153   \n",
       "\n",
       "        hz1  \n",
       "0  0.738967  \n",
       "1  0.781420  \n",
       "2  0.754252  \n",
       "3  0.818722  \n",
       "4  0.836298  "
      ]
     },
     "execution_count": 30,
     "metadata": {},
     "output_type": "execute_result"
    }
   ],
   "source": [
    "## excel\n",
    "fname = \"cars.csv\"\n",
    "file = os.path.join(fpath, fname)\n",
    "\n",
    "\n",
    "#csv\n",
    "cars_df = pd.read_csv(file)\n",
    "cars_df.head()\n",
    "\n",
    "## excel\n",
    "fname = \"vor_r.xlsx\"\n",
    "file = os.path.join(fpath, fname)\n",
    "vor_df = pd.read_excel(file)\n",
    "vor_df.head()"
   ]
  },
  {
   "cell_type": "code",
   "execution_count": 23,
   "metadata": {},
   "outputs": [
    {
     "data": {
      "text/plain": [
       "'./dataset/vor_r.xlsx'"
      ]
     },
     "execution_count": 23,
     "metadata": {},
     "output_type": "execute_result"
    }
   ],
   "source": [
    "file\n",
    "\"./dataset/vor_r.xlsx\""
   ]
  },
  {
   "cell_type": "code",
   "execution_count": 33,
   "metadata": {},
   "outputs": [
    {
     "name": "stdout",
     "output_type": "stream",
     "text": [
      "df1 = \n",
      "     a   b   c\n",
      "0  a0  b0  c0\n",
      "1  a1  b1  c1\n",
      "2  a2  b2  c2\n",
      "3  a3  b3  c3\n",
      "df1 = \n",
      "     a   b   c   d\n",
      "2  a2  b2  c2  d2\n",
      "3  a3  b3  c3  d3\n",
      "4  a4  b4  c4  d4\n",
      "5  a5  b5  c5  d5\n"
     ]
    }
   ],
   "source": [
    "## \n",
    "df1 = pd.DataFrame({'a': ['a0', 'a1', 'a2', 'a3'],\n",
    "                    'b': ['b0', 'b1', 'b2', 'b3'],\n",
    "                    'c': ['c0', 'c1', 'c2', 'c3']},\n",
    "                    index=[0, 1, 2, 3])\n",
    "\n",
    "df2 = pd.DataFrame({'a': ['a2', 'a3', 'a4', 'a5'],\n",
    "                    'b': ['b2', 'b3', 'b4', 'b5'],\n",
    "                    'c': ['c2', 'c3', 'c4', 'c5'],\n",
    "                    'd': ['d2', 'd3', 'd4', 'd5']},\n",
    "                    index=[2, 3, 4, 5])\n",
    "\n",
    "print(\"df1 = \\n\",df1)\n",
    "print(\"df1 = \\n\",df2)\n"
   ]
  },
  {
   "cell_type": "code",
   "execution_count": 42,
   "metadata": {},
   "outputs": [
    {
     "name": "stdout",
     "output_type": "stream",
     "text": [
      "pd.concat([df1, df2]) = \n",
      "     a   b   c    d\n",
      "0  a0  b0  c0  NaN\n",
      "1  a1  b1  c1  NaN\n",
      "2  a2  b2  c2  NaN\n",
      "3  a3  b3  c3  NaN\n",
      "4  a2  b2  c2   d2\n",
      "5  a3  b3  c3   d3\n",
      "6  a4  b4  c4   d4\n",
      "7  a5  b5  c5   d5\n",
      "pd.concat([df1, df2], axis= 1) = \n",
      "     a   b   c   a   b   c   d\n",
      "2  a2  b2  c2  a2  b2  c2  d2\n",
      "3  a3  b3  c3  a3  b3  c3  d3\n"
     ]
    }
   ],
   "source": [
    "## Concaternation\n",
    "concat_row = pd.concat([df1, df2], join = \"outer\", ignore_index=True)\n",
    "print(\"pd.concat([df1, df2]) = \\n\", concat_row)\n",
    "\n",
    "concat_col = pd.concat([df1, df2], join=\"inner\",axis= 1)\n",
    "print(\"pd.concat([df1, df2], axis= 1) = \\n\", concat_col)"
   ]
  },
  {
   "cell_type": "code",
   "execution_count": 46,
   "metadata": {},
   "outputs": [
    {
     "name": "stdout",
     "output_type": "stream",
     "text": [
      "df1 = \n",
      "        id stock_name          value   price\n",
      "0  128940       한미약품   59385.666667  421000\n",
      "1  130960     CJ E&M   58540.666667   98900\n",
      "2  138250      엔에스쇼핑   14558.666667   13200\n",
      "3  139480        이마트  239230.833333  254500\n",
      "4  142280     녹십자엠에스     468.833333   10200\n",
      "5  145990        삼양사   82750.000000   82000\n",
      "6  185750        종근당   40293.666667  100500\n",
      "7  192400      쿠쿠홀딩스  179204.666667  177500\n",
      "8  199800         툴젠   -2514.333333  115400\n",
      "9  204210     모두투어리츠    3093.333333    3475\n",
      "df1 = \n",
      "        id       name           eps     bps        per       pbr\n",
      "0  130960     CJ E&M   6301.333333   54068  15.695091  1.829178\n",
      "1  136480         하림    274.166667    3551  11.489362  0.887074\n",
      "2  138040    메리츠금융지주   2122.333333   14894   6.313806  0.899691\n",
      "3  139480        이마트  18268.166667  295780  13.931338  0.860437\n",
      "4  145990        삼양사   5741.000000  108090  14.283226  0.758627\n",
      "5  161390      한국타이어   5648.500000   51341   7.453306  0.820007\n",
      "6  181710  NHN엔터테인먼트   2110.166667   78434  30.755864  0.827447\n",
      "7  185750        종근당   3990.333333   40684  25.185866  2.470259\n",
      "8  204210     모두투어리츠     85.166667    5335  40.802348  0.651359\n",
      "9  207940   삼성바이오로직스   4644.166667   60099  89.790059  6.938551\n"
     ]
    }
   ],
   "source": [
    "## \n",
    "df1 = pd.read_excel(\"./dataset/stock price.xlsx\")\n",
    "df2 = pd.read_excel(\"./dataset/stock valuation.xlsx\")\n",
    "\n",
    "\n",
    "##\n",
    "df1.set_index(\"id\", inplace= True)\n",
    "df2.set_index(\"id\", inplace= True)\n",
    "\n",
    "print(\"df1 = \\n\", df1)\n",
    "print(\"df1 = \\n\", df2)\n"
   ]
  },
  {
   "cell_type": "code",
   "execution_count": 50,
   "metadata": {},
   "outputs": [
    {
     "name": "stdout",
     "output_type": "stream",
     "text": [
      "    iddf1 stock_name          value   price   iddf2       name           eps  \\\n",
      "0  128940       한미약품   59385.666667  421000  130960     CJ E&M   6301.333333   \n",
      "1  130960     CJ E&M   58540.666667   98900  136480         하림    274.166667   \n",
      "2  138250      엔에스쇼핑   14558.666667   13200  138040    메리츠금융지주   2122.333333   \n",
      "3  139480        이마트  239230.833333  254500  139480        이마트  18268.166667   \n",
      "4  142280     녹십자엠에스     468.833333   10200  145990        삼양사   5741.000000   \n",
      "5  145990        삼양사   82750.000000   82000  161390      한국타이어   5648.500000   \n",
      "6  185750        종근당   40293.666667  100500  181710  NHN엔터테인먼트   2110.166667   \n",
      "7  192400      쿠쿠홀딩스  179204.666667  177500  185750        종근당   3990.333333   \n",
      "8  199800         툴젠   -2514.333333  115400  204210     모두투어리츠     85.166667   \n",
      "9  204210     모두투어리츠    3093.333333    3475  207940   삼성바이오로직스   4644.166667   \n",
      "\n",
      "      bps        per       pbr  \n",
      "0   54068  15.695091  1.829178  \n",
      "1    3551  11.489362  0.887074  \n",
      "2   14894   6.313806  0.899691  \n",
      "3  295780  13.931338  0.860437  \n",
      "4  108090  14.283226  0.758627  \n",
      "5   51341   7.453306  0.820007  \n",
      "6   78434  30.755864  0.827447  \n",
      "7   40684  25.185866  2.470259  \n",
      "8    5335  40.802348  0.651359  \n",
      "9   60099  89.790059  6.938551  \n"
     ]
    }
   ],
   "source": [
    "df3 = df1.join(df2, lsuffix=\"df1\", rsuffix=\"df2\")\n",
    "print(df3)"
   ]
  }
 ],
 "metadata": {
  "kernelspec": {
   "display_name": "base",
   "language": "python",
   "name": "python3"
  },
  "language_info": {
   "codemirror_mode": {
    "name": "ipython",
    "version": 3
   },
   "file_extension": ".py",
   "mimetype": "text/x-python",
   "name": "python",
   "nbconvert_exporter": "python",
   "pygments_lexer": "ipython3",
   "version": "3.12.4"
  }
 },
 "nbformat": 4,
 "nbformat_minor": 2
}
