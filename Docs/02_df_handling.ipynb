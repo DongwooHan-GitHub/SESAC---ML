{
 "cells": [
  {
   "cell_type": "code",
   "execution_count": 32,
   "metadata": {},
   "outputs": [],
   "source": [
    "import os\n",
    "import numpy as np\n",
    "import pandas as pd\n",
    "import matplotlib.pyplot as plt\n",
    "import seaborn as sns\n"
   ]
  },
  {
   "cell_type": "code",
   "execution_count": 4,
   "metadata": {},
   "outputs": [],
   "source": [
    "fpath = \"./dataset\""
   ]
  },
  {
   "cell_type": "code",
   "execution_count": 5,
   "metadata": {},
   "outputs": [
    {
     "name": "stdout",
     "output_type": "stream",
     "text": [
      "   수학  영어 성별     합격\n",
      "0  90  98  남   True\n",
      "1  80  89  남  False\n",
      "2  90  95  여   True\n",
      "(3, 4)\n",
      "<class 'pandas.core.frame.DataFrame'>\n",
      "RangeIndex: 3 entries, 0 to 2\n",
      "Data columns (total 4 columns):\n",
      " #   Column  Non-Null Count  Dtype \n",
      "---  ------  --------------  ----- \n",
      " 0   수학      3 non-null      int64 \n",
      " 1   영어      3 non-null      int64 \n",
      " 2   성별      3 non-null      object\n",
      " 3   합격      3 non-null      bool  \n",
      "dtypes: bool(1), int64(2), object(1)\n",
      "memory usage: 207.0+ bytes\n",
      "None\n"
     ]
    }
   ],
   "source": [
    "exam_data = {\n",
    "    \"수학\" : [90,80,90],\n",
    "    \"영어\" : [98,89,95],\n",
    "    \"성별\" : [\"남\",\"남\",\"여\"],\n",
    "    \"합격\" : [True, False, True]\n",
    "}\n",
    "\n",
    "exam_df = pd.DataFrame(exam_data)\n",
    "print(exam_df)\n",
    "print(exam_df.shape)\n",
    "print(exam_df.info())\n",
    "\n"
   ]
  },
  {
   "cell_type": "code",
   "execution_count": 6,
   "metadata": {},
   "outputs": [
    {
     "name": "stdout",
     "output_type": "stream",
     "text": [
      "   color size  price classlabel\n",
      "0  green    M   13.5     class1\n",
      "1    red    L   15.3     class2\n",
      "2   blue   XL   10.1     class1\n"
     ]
    }
   ],
   "source": [
    "list_df = [[\"green\",\"M\",13.5, \"class1\"],\n",
    "        [\"red\", \"L\", 15.3, \"class2\"],\n",
    "        [\"blue\",\"XL\", 10.1, \"class1\"]]\n",
    "\n",
    "df = pd.DataFrame(list_df, columns=[\"color\", \"size\", \"price\", \"classlabel\"])\n",
    "print(df)"
   ]
  },
  {
   "cell_type": "code",
   "execution_count": 7,
   "metadata": {},
   "outputs": [
    {
     "name": "stdout",
     "output_type": "stream",
     "text": [
      "      색깔  크기    가격     클래스\n",
      "1  green   M  13.5  class1\n",
      "2    red   L  15.3  class2\n",
      "3   blue  XL  10.1  class1\n"
     ]
    }
   ],
   "source": [
    "# 변수명 바꾸기\n",
    "df.rename(columns = {\"color\": \"색깔\", \"size\": \"크기\",\n",
    "                    \"price\": \"가격\", \"classlabel\": \"클래스\"},\n",
    "            index = {0:1, 1:2, 2:3},\n",
    "                inplace = True)\n",
    "\n",
    "print(df)"
   ]
  },
  {
   "cell_type": "code",
   "execution_count": 8,
   "metadata": {},
   "outputs": [
    {
     "name": "stdout",
     "output_type": "stream",
     "text": [
      "examp_df = \n",
      "    수학  영어 성별     합격\n",
      "0  90  98  남   True\n",
      "1  80  89  남  False\n",
      "2  90  95  여   True\n",
      "exam_df = \n",
      "    영어 성별     합격\n",
      "0  98  남   True\n",
      "1  89  남  False\n",
      "2  95  여   True\n",
      "exam_df = \n",
      "   성별\n",
      "0  남\n",
      "1  남\n",
      "2  여\n",
      "exam_df = \n",
      "   성별\n",
      "1  남\n",
      "2  여\n"
     ]
    }
   ],
   "source": [
    "## \n",
    "exam_data = {\n",
    "    \"수학\" : [90,80,90],\n",
    "    \"영어\" : [98,89,95],\n",
    "    \"성별\" : [\"남\",\"남\",\"여\"],\n",
    "    \"합격\" : [True, False, True]\n",
    "}\n",
    "\n",
    "exam_df = pd.DataFrame(exam_data)\n",
    "\n",
    "print(\"examp_df = \\n\", exam_df)\n",
    "exam_df.drop(labels=[\"수학\"],axis = 1, inplace=True)\n",
    "print('exam_df = \\n',exam_df)\n",
    "exam_df.drop(labels= [\"영어\", \"합격\"],axis = 1, inplace= True)\n",
    "print('exam_df = \\n',exam_df)\n",
    "exam_df.drop(labels = [0], axis = 0, inplace= True)\n",
    "print('exam_df = \\n',exam_df)"
   ]
  },
  {
   "cell_type": "code",
   "execution_count": 92,
   "metadata": {},
   "outputs": [
    {
     "name": "stdout",
     "output_type": "stream",
     "text": [
      "****************************************************************************************************\n",
      "vor = \n",
      "    group  id time    hz0.04    hz0.08     hz0.1    hz0.16    hz0.32    hz0.64  \\\n",
      "0      1   1  Pre  0.213840  0.717955  0.848727  0.850790  0.802738  0.808393   \n",
      "1      1   2  Pre  0.345725  0.795440  0.781473  0.924972  0.801245  0.803880   \n",
      "2      1   3  Pre  0.376285  0.799327  0.781350  0.777773  0.868007  0.868853   \n",
      "3      1   4  Pre  0.451440  0.771083  0.808645  0.787825  0.839985  0.832352   \n",
      "4      1   5  Pre  0.287360  0.825547  0.831303  0.818332  0.817320  0.816153   \n",
      "\n",
      "        hz1  \n",
      "0  0.738967  \n",
      "1  0.781420  \n",
      "2  0.754252  \n",
      "3  0.818722  \n",
      "4  0.836298  \n",
      "****************************************************************************************************\n",
      "vor = \n",
      "    소속  번호 time    hz0.04    hz0.08     hz0.1    hz0.16    hz0.32    hz0.64  \\\n",
      "0   1   1  Pre  0.213840  0.717955  0.848727  0.850790  0.802738  0.808393   \n",
      "1   1   2  Pre  0.345725  0.795440  0.781473  0.924972  0.801245  0.803880   \n",
      "2   1   3  Pre  0.376285  0.799327  0.781350  0.777773  0.868007  0.868853   \n",
      "3   1   4  Pre  0.451440  0.771083  0.808645  0.787825  0.839985  0.832352   \n",
      "4   1   5  Pre  0.287360  0.825547  0.831303  0.818332  0.817320  0.816153   \n",
      "\n",
      "        hz1  \n",
      "0  0.738967  \n",
      "1  0.781420  \n",
      "2  0.754252  \n",
      "3  0.818722  \n",
      "4  0.836298  \n",
      "****************************************************************************************************\n",
      "****************************************************************************************************\n",
      "vor = \n",
      "   time    hz0.04    hz0.08     hz0.1    hz0.16    hz0.32    hz0.64       hz1\n",
      "0  Pre  0.213840  0.717955  0.848727  0.850790  0.802738  0.808393  0.738967\n",
      "1  Pre  0.345725  0.795440  0.781473  0.924972  0.801245  0.803880  0.781420\n",
      "2  Pre  0.376285  0.799327  0.781350  0.777773  0.868007  0.868853  0.754252\n",
      "3  Pre  0.451440  0.771083  0.808645  0.787825  0.839985  0.832352  0.818722\n",
      "4  Pre  0.287360  0.825547  0.831303  0.818332  0.817320  0.816153  0.836298\n"
     ]
    }
   ],
   "source": [
    "fname = \"vor_r.xlsx\"\n",
    "file = os.path.join(fpath, fname)\n",
    "vor = pd.read_excel(file)\n",
    "print(\"*\" * 100)\n",
    "print(\"vor = \\n\",vor.head())\n",
    "print(\"*\" * 100)\n",
    "vor.rename(columns={\"group\": \"소속\", \"id\":\"번호\"}, inplace= True)\n",
    "print(\"vor = \\n\",vor.head())\n",
    "print(\"*\" * 100)\n",
    "vor.drop(labels=[\"소속\",\"번호\"], axis = 1, inplace = True)\n",
    "print(\"*\" * 100)\n",
    "print(\"vor = \\n\",vor.head())\n"
   ]
  },
  {
   "cell_type": "code",
   "execution_count": 33,
   "metadata": {},
   "outputs": [
    {
     "name": "stdout",
     "output_type": "stream",
     "text": [
      "원본 exam_df = \n",
      "    수학  영어 성별     합격\n",
      "0  90  98  남   True\n",
      "1  80  89  남  False\n",
      "2  90  95  여   True\n",
      "**************************************************\n",
      "NaN 및 None이 포함된 exam_df = \n",
      "      수학    영어   성별     합격\n",
      "0  90.0  98.0  NaN   True\n",
      "1   NaN   NaN    남  False\n",
      "2  90.0  95.0    여   True\n",
      "**************************************************\n",
      "NaN이 있는 행 제거 (axis=0): \n",
      "      수학    영어 성별    합격\n",
      "2  90.0  95.0  여  True\n",
      "**************************************************\n",
      "수학 컬럼에서 NaN이 있는 행 제거: \n",
      "      수학    영어   성별    합격\n",
      "0  90.0  98.0  NaN  True\n",
      "2  90.0  95.0    여  True\n"
     ]
    }
   ],
   "source": [
    "# 데이터 생성\n",
    "exam_data = {\n",
    "    \"수학\" : [90, 80, 90],\n",
    "    \"영어\" : [98, 89, 95],\n",
    "    \"성별\" : [\"남\", \"남\", \"여\"],\n",
    "    \"합격\" : [True, False, True]\n",
    "}\n",
    "\n",
    "exam_df = pd.DataFrame(exam_data)\n",
    "\n",
    "print(\"원본 exam_df = \\n\", exam_df)\n",
    "\n",
    "# 값 일부를 NaN 및 None으로 대체\n",
    "exam_df.loc[0, \"성별\"] = np.nan  # 첫 번째 행의 성별을 NaN으로 설정\n",
    "exam_df.loc[1, [\"수학\", \"영어\"]] = None  # 두 번째 행의 '수학'과 '영어'를 None으로 설정\n",
    "\n",
    "print(\"*\" * 50)\n",
    "print(\"NaN 및 None이 포함된 exam_df = \\n\", exam_df)\n",
    "\n",
    "# NaN 값을 포함한 행 제거\n",
    "print(\"*\" * 50)\n",
    "print(\"NaN이 있는 행 제거 (axis=0): \\n\", exam_df.dropna(axis=0))\n",
    "\n",
    "# 특정 컬럼에서 NaN 값이 있는 행만 제거\n",
    "print(\"*\" * 50)\n",
    "print(\"수학 컬럼에서 NaN이 있는 행 제거: \\n\", exam_df.dropna(axis=0, subset=[\"수학\"]))\n",
    "\n",
    "# 컬럼 자체에 NaN이 있는 경우, 해당 컬럼 제거 (선택적 코드)\n",
    "# print(\"*\" * 50)\n",
    "# print(\"NaN이 있는 컬럼 제거 (axis=1): \\n\", exam_df.dropna(axis=1))\n"
   ]
  },
  {
   "cell_type": "code",
   "execution_count": 19,
   "metadata": {},
   "outputs": [
    {
     "name": "stdout",
     "output_type": "stream",
     "text": [
      "수학\n",
      "0    90\n",
      "1    80\n",
      "2    90\n",
      "Name: 수학, dtype: int64\n",
      "   수학 성별\n",
      "0  90  남\n",
      "1  80  남\n",
      "2  90  여\n",
      "   수학  영어 성별    합격\n",
      "2  90  95  여  True\n"
     ]
    }
   ],
   "source": [
    "## data_indexing\n",
    "exam_data = {\n",
    "    \"수학\" : [90,80,90],\n",
    "    \"영어\" : [98,89,95],\n",
    "    \"성별\" : [\"남\",\"남\",\"여\"],\n",
    "    \"합격\" : [True,False,True]\n",
    "}\n",
    "\n",
    "emam_df = pd.DataFrame(exam_data)\n",
    "\n",
    "## 열변수명\n",
    "print(\"수학\")\n",
    "print(exam_df[\"수학\"])\n",
    "print(exam_df[[\"수학\", \"성별\"]])\n",
    "\n",
    "## 인덱싱\n",
    "print(exam_df[2:3])"
   ]
  },
  {
   "cell_type": "code",
   "execution_count": 29,
   "metadata": {},
   "outputs": [
    {
     "name": "stdout",
     "output_type": "stream",
     "text": [
      "   수학  영어 성별     합격\n",
      "0  90  98  남   True\n",
      "1  80  89  남  False\n",
      "2  90  95  여   True\n",
      "**************************************************\n",
      "   수학  영어 성별     합격\n",
      "0  90  98  남   True\n",
      "1  80  89  남  False\n",
      "2  90  95  여   True\n",
      "**************************************************\n",
      "   수학     합격\n",
      "0  90   True\n",
      "1  80  False\n",
      "2  90   True\n",
      "**************************************************\n",
      "   수학  영어 성별\n",
      "1  80  89  남\n",
      "2  90  95  여\n"
     ]
    }
   ],
   "source": [
    "## loc\n",
    "print(exam_df)\n",
    "\n",
    "##\n",
    "print(\"*\" * 50)\n",
    "print(exam_df.loc[0:2])\n",
    "\n",
    "##\n",
    "print(\"*\" * 50)\n",
    "print(exam_df.loc[:, [\"수학\", \"합격\"]])\n",
    "\n",
    "## \n",
    "print(\"*\" * 50)\n",
    "print(exam_df.loc[1:2,\"수학\":\"성별\"])"
   ]
  },
  {
   "cell_type": "code",
   "execution_count": 45,
   "metadata": {},
   "outputs": [
    {
     "name": "stdout",
     "output_type": "stream",
     "text": [
      "2    False\n",
      "4    False\n",
      "Name: chestpain, dtype: bool\n",
      "   chestpain  cholesterol  sysbp\n",
      "1      False          282    140\n",
      "2      False          235    188\n",
      "3       True          277    162\n",
      "0    yes\n",
      "1     no\n",
      "2     no\n",
      "3     no\n",
      "4    yes\n",
      "Name: hdz, dtype: object\n",
      "   sysbp  cholesterol  chestpain  hdz\n",
      "0    160          208       True  yes\n",
      "1    140          282      False   no\n",
      "2    188          235      False   no\n",
      "3    162          277       True   no\n",
      "4    122          280      False  yes\n"
     ]
    }
   ],
   "source": [
    "## 문제\n",
    "df = pd.DataFrame({\n",
    "    'hdz' : ['yes', 'no', 'no', 'no', 'yes'],\n",
    "    'chestpain' : [True, False, False, True, False],\n",
    "    'cholesterol' : [208, 282, 235, 277, 280],\n",
    "    'sysbp' : [160, 140, 188, 162, 122]\n",
    "}, index = np.arange(5))\n",
    "\n",
    "################################### loc를 이용한 문제\n",
    "\n",
    "# 문제 1. chestpain의 3번째와 5번째 자료를 loc index를 이용하여 추출하여라\n",
    "result = df.loc[[2, 4], 'chestpain']\n",
    "print(result)\n",
    "# 문제 2. chestpain, cholesterol, sysbp의 변수들의 2번째에서 ~ 4번째 자료를 loc index를 이용하여 추출하여라\n",
    "print(df.loc[1:3, \"chestpain\":\"sysbp\"])\n",
    "\n",
    "# 문제 3. hdz 열 전체를 loc index를 이용하여 추출하여라\n",
    "print(df.loc[:, \"hdz\"])\n",
    "\n",
    "# 문제 4. 열의 순서를 바꾸어서 loc index를 이용하여 추출하여라\n",
    "print(df.loc[:, ::-1])\n",
    "################################### loc를 이용한 문제\n",
    "\n",
    "# 문제 1. chestpain의 3번째와 5번째 자료를 iloc index를 이용하여 추출하여라\n",
    "\n",
    "# 문제 2. chestpain, cholesterol, sysbp의 변수들의 2번째에서 ~ 4번째 자료를 iloc index를 이용하여 추출하여라\n",
    "\n",
    "# 문제 3. hdz 열 전체를 iloc index를 이용하여 추출하여라\n",
    "\n",
    "# 문제 4. 열의 순서를 바꾸어서 iloc index를 이용하여 추출하여라"
   ]
  },
  {
   "cell_type": "code",
   "execution_count": 55,
   "metadata": {},
   "outputs": [
    {
     "name": "stdout",
     "output_type": "stream",
     "text": [
      "   hdz  chestpain  cholesterol  sysbp\n",
      "1  yes       True          208    160\n",
      "2   no      False          282    140\n",
      "3   no      False          235    188\n",
      "4   no       True          277    162\n",
      "5  yes      False          280    122\n",
      "   chestpain  cholesterol\n",
      "1       True          208\n",
      "2      False          282\n",
      "3      False          235\n",
      "4       True          277\n",
      "5      False          280\n"
     ]
    }
   ],
   "source": [
    "df = pd.DataFrame({\n",
    "    'hdz' : ['yes', 'no', 'no', 'no', 'yes'],\n",
    "    'chestpain' : [True, False, False, True, False],\n",
    "    'cholesterol' : [208, 282, 235, 277, 280],\n",
    "    'sysbp' : [160, 140, 188, 162, 122]\n",
    "}, index = np.arange(1, 6))\n",
    "print(df)\n",
    "\n",
    "print(df.iloc[:,1:3])"
   ]
  },
  {
   "cell_type": "code",
   "execution_count": 61,
   "metadata": {},
   "outputs": [
    {
     "name": "stdout",
     "output_type": "stream",
     "text": [
      "     수학   코딩    영어   성별     합격   음악\n",
      "0  90.0   50  98.0  NaN   True  100\n",
      "1   NaN   80   NaN    남  False   90\n",
      "2  90.0  100  95.0    여   True   80\n"
     ]
    },
    {
     "data": {
      "text/html": [
       "<div>\n",
       "<style scoped>\n",
       "    .dataframe tbody tr th:only-of-type {\n",
       "        vertical-align: middle;\n",
       "    }\n",
       "\n",
       "    .dataframe tbody tr th {\n",
       "        vertical-align: top;\n",
       "    }\n",
       "\n",
       "    .dataframe thead th {\n",
       "        text-align: right;\n",
       "    }\n",
       "</style>\n",
       "<table border=\"1\" class=\"dataframe\">\n",
       "  <thead>\n",
       "    <tr style=\"text-align: right;\">\n",
       "      <th></th>\n",
       "      <th>수학</th>\n",
       "      <th>코딩</th>\n",
       "      <th>영어</th>\n",
       "      <th>성별</th>\n",
       "      <th>합격</th>\n",
       "      <th>음악</th>\n",
       "    </tr>\n",
       "  </thead>\n",
       "  <tbody>\n",
       "    <tr>\n",
       "      <th>0</th>\n",
       "      <td>90.0</td>\n",
       "      <td>50</td>\n",
       "      <td>98.0</td>\n",
       "      <td>NaN</td>\n",
       "      <td>True</td>\n",
       "      <td>100</td>\n",
       "    </tr>\n",
       "    <tr>\n",
       "      <th>1</th>\n",
       "      <td>NaN</td>\n",
       "      <td>80</td>\n",
       "      <td>NaN</td>\n",
       "      <td>남</td>\n",
       "      <td>False</td>\n",
       "      <td>90</td>\n",
       "    </tr>\n",
       "    <tr>\n",
       "      <th>2</th>\n",
       "      <td>90.0</td>\n",
       "      <td>100</td>\n",
       "      <td>95.0</td>\n",
       "      <td>여</td>\n",
       "      <td>True</td>\n",
       "      <td>80</td>\n",
       "    </tr>\n",
       "    <tr>\n",
       "      <th>3</th>\n",
       "      <td>60.0</td>\n",
       "      <td>90</td>\n",
       "      <td>80.0</td>\n",
       "      <td>여</td>\n",
       "      <td>False</td>\n",
       "      <td>100</td>\n",
       "    </tr>\n",
       "  </tbody>\n",
       "</table>\n",
       "</div>"
      ],
      "text/plain": [
       "     수학   코딩    영어   성별     합격   음악\n",
       "0  90.0   50  98.0  NaN   True  100\n",
       "1   NaN   80   NaN    남  False   90\n",
       "2  90.0  100  95.0    여   True   80\n",
       "3  60.0   90  80.0    여  False  100"
      ]
     },
     "execution_count": 61,
     "metadata": {},
     "output_type": "execute_result"
    }
   ],
   "source": [
    "## 행과 열 추가\n",
    "print(exam_df)\n",
    "\n",
    "## 열 추가\n",
    "exam_df[\"음악\"] = [100, 90,80]\n",
    "# exam_df.insert(1, \"코딩\", [50,80,100])\n",
    "(exam_df)\n",
    "\n",
    "## 행 추가\n",
    "exam_df.loc[3] = [60,90,80,\"여\",False, 100]\n",
    "exam_df"
   ]
  },
  {
   "cell_type": "code",
   "execution_count": 64,
   "metadata": {},
   "outputs": [
    {
     "name": "stdout",
     "output_type": "stream",
     "text": [
      "     수학   코딩    영어   성별     합격   음악\n",
      "0  90.0   50  98.0  NaN   True  100\n",
      "1   NaN   80   NaN    남  False   90\n",
      "2  90.0  100  95.0    여   True   80\n",
      "3  60.0    0  80.0    여  False  100\n",
      "     수학   코딩    영어   성별     합격   음악\n",
      "0  90.0   50  98.0  NaN   True  100\n",
      "1   NaN   80   NaN    남  False   90\n",
      "2  90.0  100  95.0    여   True   80\n",
      "3  60.0    0  80.0    여  False  100\n",
      "     수학  코딩    영어   성별     합격   음악\n",
      "0  90.0  50  98.0  NaN   True  100\n",
      "1   NaN  80   NaN    남  False   90\n",
      "2  90.0   0   0.0    여   True   80\n",
      "3  60.0   0  80.0    여  False  100\n"
     ]
    }
   ],
   "source": [
    "# 데이터 값 바꾸기\n",
    "print(exam_df)\n",
    "\n",
    "exam_df.loc[3,\"코딩\"] = 0\n",
    "print(exam_df)\n",
    "\n",
    "exam_df.loc[2,\"코딩\":\"영어\"] = 0\n",
    "print(exam_df)"
   ]
  },
  {
   "cell_type": "code",
   "execution_count": 76,
   "metadata": {},
   "outputs": [
    {
     "name": "stdout",
     "output_type": "stream",
     "text": [
      "   hdz  chestpain  cholesterol  sysbp\n",
      "0  yes       True          208    160\n",
      "1   no      False          282    140\n",
      "2   no      False          235    188\n",
      "3   no       True          277    162\n",
      "4  yes      False          280  10000\n",
      "**************************************************\n",
      "   hdz  chestpain  cholesterol  sysbp\n",
      "0  yes       True          208    160\n",
      "1   no      False          282      1\n",
      "2   no      False          235      2\n",
      "3   no       True          277      3\n",
      "4  yes      False          280  10000\n"
     ]
    }
   ],
   "source": [
    "df = pd.DataFrame({\n",
    "    'hdz' : ['yes', 'no', 'no', 'no', 'yes'],\n",
    "    'chestpain' : [True, False, False, True, False],\n",
    "    'cholesterol' : [208, 282, 235, 277, 280],\n",
    "    'sysbp' : [160, 140, 188, 162, 122]\n",
    "}, index = np.arange(5))\n",
    "df\n",
    "df.loc[4, \"sysbp\"] = 10000\n",
    "print(df)\n",
    "print(\"*\" * 50)\n",
    "\n",
    "df.loc[1:3, \"sysbp\"] = [1,2,3]\n",
    "print(df)"
   ]
  },
  {
   "cell_type": "code",
   "execution_count": 83,
   "metadata": {},
   "outputs": [
    {
     "name": "stdout",
     "output_type": "stream",
     "text": [
      "    c0  c1  c2  c3  c4\n",
      "r0   1   4   7  10  13\n",
      "31   2   5   8  11  14\n",
      "r2   3   6   9  12  15\n",
      "**************************************************\n",
      "    c1  c2  c3  c4\n",
      "c0                \n",
      "1    4   7  10  13\n",
      "2    5   8  11  14\n",
      "3    6   9  12  15\n",
      "**************************************************\n",
      "   c0  c1  c2  c3  c4\n",
      "0   1   4   7  10  13\n",
      "1   2   5   8  11  14\n",
      "2   3   6   9  12  15\n"
     ]
    }
   ],
   "source": [
    "dict_data ={\n",
    "    \"c0\" : np.arange(1,4),\n",
    "    \"c1\" : np.arange(4,7),\n",
    "    \"c2\" : np.arange(7,10),\n",
    "    \"c3\" : np.arange(10,13),\n",
    "    \"c4\" : np.arange(13,16),\n",
    "}\n",
    "df = pd.DataFrame(dict_data, index = [\"r0\",\"31\",\"r2\"])\n",
    "print(df)\n",
    "\n",
    "print(\"*\" * 50)\n",
    "df.set_index(\"c0\", inplace=True)\n",
    "print(df)\n",
    "\n",
    "print(\"*\" * 50)\n",
    "df.reset_index(inplace=True)\n",
    "print(df)"
   ]
  },
  {
   "cell_type": "code",
   "execution_count": 98,
   "metadata": {},
   "outputs": [
    {
     "name": "stdout",
     "output_type": "stream",
     "text": [
      "./dataset\n",
      "vor_r.xlsx\n",
      "./dataset\\vor_r.xlsx\n",
      "    group  id    time    hz0.04    hz0.08     hz0.1    hz0.16    hz0.32  \\\n",
      "0       1   1     Pre  0.213840  0.717955  0.848727  0.850790  0.802738   \n",
      "1       1   2     Pre  0.345725  0.795440  0.781473  0.924972  0.801245   \n",
      "2       1   3     Pre  0.376285  0.799327  0.781350  0.777773  0.868007   \n",
      "3       1   4     Pre  0.451440  0.771083  0.808645  0.787825  0.839985   \n",
      "4       1   5     Pre  0.287360  0.825547  0.831303  0.818332  0.817320   \n",
      "..    ...  ..     ...       ...       ...       ...       ...       ...   \n",
      "59      2  12  Post14  0.079660  0.237193  0.471418  0.474830  0.585082   \n",
      "60      2  13  Post14  0.085117  0.387700  0.403857  0.583710  0.665262   \n",
      "61      2  14  Post14  0.058188  0.399475  0.467535  0.648505  0.657350   \n",
      "62      2  15  Post14  0.098390  0.357222  0.478880  0.456372  0.536233   \n",
      "63      2  16  Post14  0.117395  0.449813  0.472043  0.571655  0.690753   \n",
      "\n",
      "      hz0.64       hz1  \n",
      "0   0.808393  0.738967  \n",
      "1   0.803880  0.781420  \n",
      "2   0.868853  0.754252  \n",
      "3   0.832352  0.818722  \n",
      "4   0.816153  0.836298  \n",
      "..       ...       ...  \n",
      "59  0.660957  0.623650  \n",
      "60  0.690318  0.652092  \n",
      "61  0.660045  0.586642  \n",
      "62  0.629415  0.627395  \n",
      "63  0.678215  0.658850  \n",
      "\n",
      "[64 rows x 10 columns]\n",
      "    group    time    hz0.04    hz0.08     hz0.1    hz0.16    hz0.32    hz0.64  \\\n",
      "id                                                                              \n",
      "1       1     Pre  0.213840  0.717955  0.848727  0.850790  0.802738  0.808393   \n",
      "2       1     Pre  0.345725  0.795440  0.781473  0.924972  0.801245  0.803880   \n",
      "3       1     Pre  0.376285  0.799327  0.781350  0.777773  0.868007  0.868853   \n",
      "4       1     Pre  0.451440  0.771083  0.808645  0.787825  0.839985  0.832352   \n",
      "5       1     Pre  0.287360  0.825547  0.831303  0.818332  0.817320  0.816153   \n",
      "..    ...     ...       ...       ...       ...       ...       ...       ...   \n",
      "12      2  Post14  0.079660  0.237193  0.471418  0.474830  0.585082  0.660957   \n",
      "13      2  Post14  0.085117  0.387700  0.403857  0.583710  0.665262  0.690318   \n",
      "14      2  Post14  0.058188  0.399475  0.467535  0.648505  0.657350  0.660045   \n",
      "15      2  Post14  0.098390  0.357222  0.478880  0.456372  0.536233  0.629415   \n",
      "16      2  Post14  0.117395  0.449813  0.472043  0.571655  0.690753  0.678215   \n",
      "\n",
      "         hz1  \n",
      "id            \n",
      "1   0.738967  \n",
      "2   0.781420  \n",
      "3   0.754252  \n",
      "4   0.818722  \n",
      "5   0.836298  \n",
      "..       ...  \n",
      "12  0.623650  \n",
      "13  0.652092  \n",
      "14  0.586642  \n",
      "15  0.627395  \n",
      "16  0.658850  \n",
      "\n",
      "[64 rows x 9 columns]\n",
      "    id  group    time    hz0.04    hz0.08     hz0.1    hz0.16    hz0.32  \\\n",
      "0    1      1     Pre  0.213840  0.717955  0.848727  0.850790  0.802738   \n",
      "1    2      1     Pre  0.345725  0.795440  0.781473  0.924972  0.801245   \n",
      "2    3      1     Pre  0.376285  0.799327  0.781350  0.777773  0.868007   \n",
      "3    4      1     Pre  0.451440  0.771083  0.808645  0.787825  0.839985   \n",
      "4    5      1     Pre  0.287360  0.825547  0.831303  0.818332  0.817320   \n",
      "..  ..    ...     ...       ...       ...       ...       ...       ...   \n",
      "59  12      2  Post14  0.079660  0.237193  0.471418  0.474830  0.585082   \n",
      "60  13      2  Post14  0.085117  0.387700  0.403857  0.583710  0.665262   \n",
      "61  14      2  Post14  0.058188  0.399475  0.467535  0.648505  0.657350   \n",
      "62  15      2  Post14  0.098390  0.357222  0.478880  0.456372  0.536233   \n",
      "63  16      2  Post14  0.117395  0.449813  0.472043  0.571655  0.690753   \n",
      "\n",
      "      hz0.64       hz1  \n",
      "0   0.808393  0.738967  \n",
      "1   0.803880  0.781420  \n",
      "2   0.868853  0.754252  \n",
      "3   0.832352  0.818722  \n",
      "4   0.816153  0.836298  \n",
      "..       ...       ...  \n",
      "59  0.660957  0.623650  \n",
      "60  0.690318  0.652092  \n",
      "61  0.660045  0.586642  \n",
      "62  0.629415  0.627395  \n",
      "63  0.678215  0.658850  \n",
      "\n",
      "[64 rows x 10 columns]\n"
     ]
    }
   ],
   "source": [
    "print(fpath)\n",
    "print(fname)\n",
    "print(file)\n",
    "\n",
    "vor = pd.read_excel(file)\n",
    "print(vor)\n",
    "vor.set_index(\"id\", inplace= True)\n",
    "print(vor)\n",
    "vor.reset_index(inplace= True)\n",
    "print(vor)\n",
    "\n",
    "\n"
   ]
  }
 ],
 "metadata": {
  "kernelspec": {
   "display_name": "base",
   "language": "python",
   "name": "python3"
  },
  "language_info": {
   "codemirror_mode": {
    "name": "ipython",
    "version": 3
   },
   "file_extension": ".py",
   "mimetype": "text/x-python",
   "name": "python",
   "nbconvert_exporter": "python",
   "pygments_lexer": "ipython3",
   "version": "3.12.4"
  }
 },
 "nbformat": 4,
 "nbformat_minor": 2
}
